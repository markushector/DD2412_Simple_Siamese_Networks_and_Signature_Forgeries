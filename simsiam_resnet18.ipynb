{
 "cells": [
  {
   "cell_type": "code",
   "execution_count": 1,
   "id": "7d7140f4-e68e-4231-9ebb-57887d5d4fe2",
   "metadata": {},
   "outputs": [],
   "source": [
    "import math\n",
    "import os\n",
    "import random\n",
    "import shutil\n",
    "import time\n",
    "import warnings\n",
    "\n",
    "import torch\n",
    "import torch.nn as nn\n",
    "import torch.nn.parallel\n",
    "import torch.backends.cudnn as cudnn\n",
    "import torch.distributed as dist\n",
    "import torch.optim\n",
    "import torch.multiprocessing as mp\n",
    "import torch.utils.data\n",
    "import torch.utils.data.distributed\n",
    "import torchvision\n",
    "import torchvision.transforms as transforms\n",
    "import torchvision.datasets as datasets\n",
    "import torchvision.models as models\n",
    "\n",
    "import simsiam.loader\n",
    "import simsiam.builder\n",
    "import simsiam.resnet18\n",
    "import simsiam.builder_resnet18\n",
    "import simsiam.builder_resnet18_2\n",
    "\n",
    "from sklearn.neighbors import KNeighborsClassifier\n"
   ]
  },
  {
   "cell_type": "code",
   "execution_count": 2,
   "id": "5d579399-adbe-4a82-afe0-dccafef63661",
   "metadata": {},
   "outputs": [],
   "source": [
    "def kNN(model, train_loader, test_loader, device=torch.device('cuda'), k=15):\n",
    "    \n",
    "    model.eval()\n",
    "    \n",
    "    X_vec = torch.zeros((50000, 2048))\n",
    "    y_vec = torch.zeros(50000)\n",
    "    \n",
    "    for i, data in enumerate(train_loader):\n",
    "        \n",
    "        inputs, labels = data\n",
    "        #inputs, labels = inputs.to(device), labels.to(device)\n",
    "        \n",
    "        X = model.forward_lat(inputs).detach()\n",
    "        y = labels\n",
    "\n",
    "        X_vec[i*X.shape[0]:(i+1)*X.shape[0], :] = X\n",
    "        y_vec[i*X.shape[0]:(i+1)*X.shape[0]] = y\n",
    "            \n",
    "    X = X_vec\n",
    "    y = y_vec\n",
    "            \n",
    "    classifier = KNeighborsClassifier(n_neighbors=k)\n",
    "    classifier.fit(X.cpu(), y.cpu())\n",
    "    \n",
    "    def check_acc_train(model, classifier, test_loader):\n",
    "    \n",
    "        correct = 0\n",
    "        total = 0\n",
    "        # since we're not training, we don't need to calculate the gradients for our outputs\n",
    "        with torch.no_grad():\n",
    "            for i, data in enumerate(testloader):\n",
    "                images, labels = data[0].to(device), data[1]\n",
    "                outputs = model.forward_lat(images).detach().to('cpu')\n",
    "                predicted = torch.tensor(classifier.predict(outputs))\n",
    "                total += labels.size(0)\n",
    "\n",
    "                correct += (predicted == labels).sum().item()\n",
    "\n",
    "                #if i % 50 == 0:\n",
    "                    #print(i, correct/total)\n",
    "\n",
    "        print('Accuracy of the network on the 10000 training images: %d %%' % (\n",
    "            100 * correct / total))\n",
    "        return correct\n",
    "    \n",
    "    #model.train()\n",
    "    \n",
    "    return check_acc_train(model, classifier, test_loader)\n"
   ]
  },
  {
   "cell_type": "code",
   "execution_count": 3,
   "id": "fb5bb7a9-5b3d-4319-8475-db197bd1a1c6",
   "metadata": {},
   "outputs": [
    {
     "name": "stdout",
     "output_type": "stream",
     "text": [
      "Files already downloaded and verified\n",
      "Files already downloaded and verified\n",
      "Files already downloaded and verified\n"
     ]
    }
   ],
   "source": [
    "#model_names = sorted(name for name in models.__dict__\n",
    "#    if name.islower() and not name.startswith(\"__\")\n",
    "#    and callable(models.__dict__[name]))\n",
    "#print(model_names)\n",
    "#model = simsiam.builder.SimSiam(\n",
    "#        models.__dict__['resnet18'],\n",
    "#        2048, 1024)\n",
    "\n",
    "#model = simsiam.builder.SimSiam(\n",
    "#        simsiam.resnet.resnet20(),\n",
    "#        16, 8)\n",
    "\n",
    "model = simsiam.resnet18.resnet18()\n",
    "#for child in model.children():\n",
    "#    for layer in child.modules():\n",
    "#        print(layer)\n",
    "model = simsiam.builder_resnet18_2.SimSiam(model, 2048, 512, stop_grad=True, include_predictor=True)\n",
    "\n",
    "device = torch.device('cuda') \n",
    "lr = 0.03\n",
    "# batch_size = 512, workers = 32\n",
    "batch_size = 512\n",
    "workers = 4\n",
    "momentum = 0.9\n",
    "weight_decay = 0.0005\n",
    "start_epoch = 99\n",
    "epochs = 100\n",
    "\n",
    "init_lr = lr * batch_size / 256\n",
    "criterion = nn.CosineSimilarity(dim=1)\n",
    "\n",
    "model.to(device)\n",
    "\n",
    "model = torch.load(\"fixlr98.pt\")\n",
    "\n",
    "optim_params = [{'params': model.encoder.parameters(), 'fix_lr': True},\n",
    "                        {'params': model.predictor.parameters(), 'fix_lr': True}]\n",
    "\n",
    "#optim_params = [{'params': model.encoder.parameters(), 'fix_lr': False}]\n",
    "\n",
    "optimizer = torch.optim.SGD(optim_params, init_lr,\n",
    "                                momentum=momentum,\n",
    "                                weight_decay=weight_decay)\n",
    "\n",
    "normalize = transforms.Normalize(mean=[0.4914, 0.4822, 0.4465],\n",
    "                                     std=[0.2023, 0.1994, 0.2010])\n",
    "\n",
    "    # MoCo v2's aug: similar to SimCLR https://arxiv.org/abs/2002.05709\n",
    "augmentation = [\n",
    "    transforms.RandomResizedCrop(28, scale=(0.2, 1.)),\n",
    "    transforms.RandomApply([transforms.ColorJitter(0.4, 0.4, 0.4, 0.1)], p=0.8),\n",
    "    transforms.RandomGrayscale(p=0.2),\n",
    "    #transforms.RandomApply([simsiam.loader.GaussianBlur([.1, 2.])], p=0.5),\n",
    "    transforms.RandomHorizontalFlip(),\n",
    "    transforms.ToTensor(),\n",
    "    normalize\n",
    "    ]\n",
    "\n",
    "\n",
    "data_storage = \"./data\"\n",
    "\n",
    "    \n",
    "normalize = transforms.Normalize(mean=[0.4914, 0.4822, 0.4465],\n",
    "                                     std=[0.2023, 0.1994, 0.2010])\n",
    "    \n",
    "transform_test = [transforms.ToTensor(), normalize]\n",
    "\n",
    "testset = torchvision.datasets.CIFAR10(root=data_storage, train=False, download=True, transform=transforms.Compose(transform_test))\n",
    "\n",
    "testloader = torch.utils.data.DataLoader(testset, batch_size=64, shuffle=False, num_workers=0)\n",
    "\n",
    "normalize = transforms.Normalize(mean=[0.4914, 0.4822, 0.4465],\n",
    "                                     std=[0.2023, 0.1994, 0.2010])\n",
    "augmentation = [\n",
    "    transforms.RandomResizedCrop(28, scale=(0.2, 1.)),\n",
    "    transforms.RandomApply([transforms.ColorJitter(0.4, 0.4, 0.4, 0.1)], p=0.8),\n",
    "    transforms.RandomGrayscale(p=0.2),\n",
    "    #transforms.RandomApply([simsiam.loader.GaussianBlur([.1, 2.])], p=0.5),\n",
    "    transforms.RandomHorizontalFlip(),\n",
    "    transforms.ToTensor(),\n",
    "    normalize\n",
    "    ]\n",
    "\n",
    "\n",
    "data_storage = \"./data\"\n",
    "\n",
    "kNNtrainset = torchvision.datasets.CIFAR10(root=\"./data/cifar\", train=True,\n",
    "                                        download=True, transform=transforms.Compose(augmentation))\n",
    "\n",
    "#train_dataset = datasets.ImageFolder(traindir,\n",
    "#        simsiam.loader.TwoCropsTransform(transforms.Compose(augmentation)))\n",
    "\n",
    "kNNtrain_loader = torch.utils.data.DataLoader(kNNtrainset, batch_size = 64, shuffle= False, num_workers=0)\n",
    "\n",
    "kNNdata = []\n",
    "for i, data in enumerate(kNNtrain_loader):\n",
    "        \n",
    "        inputs, labels = data\n",
    "        inputs, labels = inputs.to(device), labels.to(device)\n",
    "        kNNdata.append([inputs, labels])\n",
    "        \n",
    "kNNtrain_loader = kNNdata\n",
    "\n",
    "trainset = torchvision.datasets.CIFAR10(root=data_storage, train=True,\n",
    "                                        download=True, transform=simsiam.loader.TwoCropsTransform(transforms.Compose(augmentation)))\n",
    "\n",
    "#train_dataset = datasets.ImageFolder(traindir,\n",
    "#        simsiam.loader.TwoCropsTransform(transforms.Compose(augmentation)))\n",
    "\n",
    "train_loader = torch.utils.data.DataLoader(trainset, batch_size = batch_size, shuffle= True,\n",
    "        num_workers=workers, pin_memory=True, drop_last=True)\n",
    "\n",
    "#print(device)\n",
    "\n",
    "#model.load_state_dict(torch.load(\"nets/simsiam_resnet18_v2.pt\"))\n"
   ]
  },
  {
   "cell_type": "code",
   "execution_count": 4,
   "id": "fc86257e-229b-455a-9815-3c8229a42f38",
   "metadata": {},
   "outputs": [],
   "source": [
    "def train(train_loader, model, criterion, optimizer, epoch, gpu = None, kNNtrain_loader=kNNtrain_loader, test_loader=testloader, knn=False):\n",
    "    batch_time = AverageMeter('Time', ':6.3f')\n",
    "    data_time = AverageMeter('Data', ':6.3f')\n",
    "    losses = AverageMeter('Loss', ':.4f')\n",
    "    progress = ProgressMeter(\n",
    "        len(train_loader),\n",
    "        [batch_time, data_time, losses],\n",
    "        prefix=\"Epoch: [{}]\".format(epoch))\n",
    "    \n",
    "    # switch to train mode\n",
    "    \n",
    "    #print(kNN(model, kNNtrain_loader, test_loader))\n",
    "    \n",
    "    model.train()\n",
    "\n",
    "    end = time.time()\n",
    "    \n",
    "    epoch_loss = 0\n",
    "    zs = []\n",
    "\n",
    "    for i, (images, _) in enumerate(train_loader):\n",
    "        # measure data loading time\n",
    "        data_time.update(time.time() - end)\n",
    "\n",
    "        if gpu is not None:\n",
    "            images[0] = images[0].cuda(args.gpu, non_blocking=True)\n",
    "            images[1] = images[1].cuda(args.gpu, non_blocking=True)\n",
    "        \n",
    "        images[0], images[1] = images[0].to(device), images[1].to(device)\n",
    "        # compute output and loss\n",
    "     \n",
    "        p1, p2, z1, z2 = model(x1=images[0], x2=images[1])\n",
    "        loss = -(criterion(p1, z2).mean() + criterion(p2, z1).mean()) * 0.5\n",
    "\n",
    "        losses.update(loss.item(), images[0].size(0))\n",
    "\n",
    "        # compute gradient and do SGD step\n",
    "        optimizer.zero_grad()\n",
    "        loss.backward()\n",
    "        optimizer.step()\n",
    "\n",
    "        # measure elapsed time\n",
    "        batch_time.update(time.time() - end)\n",
    "        end = time.time()\n",
    "        \n",
    "        if i % 10 == 0:\n",
    "            progress.display(i)\n",
    "            \n",
    "        zs.append([z1, z2])\n",
    "        \n",
    "        #kNN_score = kNN(model, kNNtrain_loader, test_loader)\n",
    "        \n",
    "    if knn:\n",
    "        kNN_score = kNN(model, kNNtrain_loader, test_loader)\n",
    "    else:\n",
    "        kNN_score = False\n",
    "            \n",
    "            \n",
    "    return (losses.avg, losses.sum, kNN_score, zs)\n",
    "\n",
    "\n",
    "def save_checkpoint(state, is_best, filename='checkpoint.pth.tar'):\n",
    "    torch.save(state, filename)\n",
    "    if is_best:\n",
    "        shutil.copyfile(filename, 'model_best.pth.tar')\n",
    "\n",
    "\n",
    "class AverageMeter(object):\n",
    "    \"\"\"Computes and stores the average and current value\"\"\"\n",
    "    def __init__(self, name, fmt=':f'):\n",
    "        self.name = name\n",
    "        self.fmt = fmt\n",
    "        self.reset()\n",
    "\n",
    "    def reset(self):\n",
    "        self.val = 0\n",
    "        self.avg = 0\n",
    "        self.sum = 0\n",
    "        self.count = 0\n",
    "\n",
    "    def update(self, val, n=1):\n",
    "        self.val = val\n",
    "        self.sum += val * n\n",
    "        self.count += n\n",
    "        self.avg = self.sum / self.count\n",
    "\n",
    "    def __str__(self):\n",
    "        fmtstr = '{name} {val' + self.fmt + '} ({avg' + self.fmt + '})'\n",
    "        return fmtstr.format(**self.__dict__)\n",
    "\n",
    "\n",
    "class ProgressMeter(object):\n",
    "    def __init__(self, num_batches, meters, prefix=\"\"):\n",
    "        self.batch_fmtstr = self._get_batch_fmtstr(num_batches)\n",
    "        self.meters = meters\n",
    "        self.prefix = prefix\n",
    "\n",
    "    def display(self, batch):\n",
    "        entries = [self.prefix + self.batch_fmtstr.format(batch)]\n",
    "        entries += [str(meter) for meter in self.meters]\n",
    "        print('\\t'.join(entries))\n",
    "\n",
    "    def _get_batch_fmtstr(self, num_batches):\n",
    "        num_digits = len(str(num_batches // 1))\n",
    "        fmt = '{:' + str(num_digits) + 'd}'\n",
    "        return '[' + fmt + '/' + fmt.format(num_batches) + ']'\n",
    "\n",
    "\n",
    "def adjust_learning_rate(optimizer, init_lr, epoch, epochs):\n",
    "    \"\"\"Decay the learning rate based on schedule\"\"\"\n",
    "    cur_lr = init_lr * 0.5 * (1. + math.cos(math.pi * epoch / epochs))\n",
    "    for param_group in optimizer.param_groups:\n",
    "        if 'fix_lr' in param_group and param_group['fix_lr']:\n",
    "            param_group['lr'] = init_lr\n",
    "        else:\n",
    "            param_group['lr'] = cur_lr"
   ]
  },
  {
   "cell_type": "code",
   "execution_count": 5,
   "id": "6cf4adc9-f560-4bad-b98b-947110a16d82",
   "metadata": {},
   "outputs": [
    {
     "name": "stdout",
     "output_type": "stream",
     "text": [
      "Epoch: [99][ 0/97]\tTime  2.912 ( 2.912)\tData  1.473 ( 1.473)\tLoss -0.8440 (-0.8440)\n",
      "Epoch: [99][10/97]\tTime  0.653 ( 1.215)\tData  0.000 ( 0.134)\tLoss -0.8629 (-0.8586)\n",
      "Epoch: [99][20/97]\tTime  0.654 ( 0.947)\tData  0.000 ( 0.070)\tLoss -0.8512 (-0.8533)\n",
      "Epoch: [99][30/97]\tTime  0.659 ( 0.853)\tData  0.000 ( 0.048)\tLoss -0.8423 (-0.8511)\n",
      "Epoch: [99][40/97]\tTime  0.663 ( 0.806)\tData  0.000 ( 0.036)\tLoss -0.8498 (-0.8519)\n",
      "Epoch: [99][50/97]\tTime  0.671 ( 0.778)\tData  0.000 ( 0.029)\tLoss -0.8509 (-0.8525)\n",
      "Epoch: [99][60/97]\tTime  0.669 ( 0.760)\tData  0.000 ( 0.024)\tLoss -0.8590 (-0.8529)\n",
      "Epoch: [99][70/97]\tTime  0.671 ( 0.748)\tData  0.000 ( 0.021)\tLoss -0.8546 (-0.8526)\n",
      "Epoch: [99][80/97]\tTime  0.679 ( 0.738)\tData  0.000 ( 0.018)\tLoss -0.8502 (-0.8526)\n",
      "Epoch: [99][90/97]\tTime  0.680 ( 0.731)\tData  0.000 ( 0.016)\tLoss -0.8448 (-0.8516)\n"
     ]
    }
   ],
   "source": [
    "# Trained 100 epochs\n",
    "#model.load_state_dict(torch.load('nets/simsiam_resnet18_v2.pt'))\n",
    "kNNs = []\n",
    "losses = []\n",
    "zs = []\n",
    "\n",
    "for epoch in range(start_epoch, epochs):\n",
    "    knn = False\n",
    "    #if epoch % 5 == 0:\n",
    "    #    knn = True\n",
    "    \n",
    "    #adjust_learning_rate(optimizer, init_lr, epoch, epochs)\n",
    "    loss = train(train_loader, model, criterion, optimizer, epoch, knn=knn)\n",
    "    losses.append(loss[0])\n",
    "    kNNs.append(loss[-2])\n",
    "    zs.append(loss[-1])\n",
    "    \n"
   ]
  },
  {
   "cell_type": "code",
   "execution_count": null,
   "id": "42337911-4091-4e50-857f-a3a0e9cebe27",
   "metadata": {},
   "outputs": [],
   "source": [
    "torch.cuda.is_available()"
   ]
  },
  {
   "cell_type": "code",
   "execution_count": 6,
   "id": "9be2f054-ecdb-46db-a37b-94e69fb95334",
   "metadata": {},
   "outputs": [],
   "source": [
    "torch.save(model, \"fixlr100.pt\")"
   ]
  },
  {
   "cell_type": "code",
   "execution_count": 7,
   "id": "2b90819d-fa6c-43ed-b7ad-4eb0d8e949f3",
   "metadata": {},
   "outputs": [
    {
     "name": "stdout",
     "output_type": "stream",
     "text": [
      "99328\n"
     ]
    }
   ],
   "source": [
    "import numpy as np\n",
    "final = []\n",
    "for epoch in zs:\n",
    "    epoch_vec = []\n",
    "    for batch in epoch:\n",
    "        for idx in batch:\n",
    "            nmp = idx.detach().cpu().numpy()\n",
    "            for i in range(nmp.shape[0]):\n",
    "                l2 = nmp[i, :]/np.sqrt(np.sum(np.square(nmp[i, :])))\n",
    "                epoch_vec.append(np.std(l2))\n",
    "    final.append(epoch_vec)\n",
    "            \n",
    "print(len(final[0]))\n",
    "        \n",
    "            "
   ]
  },
  {
   "cell_type": "code",
   "execution_count": 8,
   "id": "d2d0e464-b591-4a1e-ad45-b0ef8a3e653a",
   "metadata": {},
   "outputs": [
    {
     "name": "stdout",
     "output_type": "stream",
     "text": [
      "[0.022096911, 0.022096911, 0.022096913, 0.022096911, 0.022096911, 0.022096911, 0.022096911, 0.022096911]\n"
     ]
    }
   ],
   "source": [
    "aa = [np.mean(x) for x in final]\n",
    "print(aa)"
   ]
  },
  {
   "cell_type": "code",
   "execution_count": 7,
   "id": "3c45fb35-628e-4185-a6ed-24121e9325d0",
   "metadata": {},
   "outputs": [],
   "source": [
    "import pandas as pd\n",
    "df = pd.DataFrame({\"losses\": losses, \"kNN\": kNNs})\n",
    "df.to_csv(\"fixlr100.csv\")"
   ]
  },
  {
   "cell_type": "code",
   "execution_count": 12,
   "id": "b57c8bef-b922-4cd4-9583-e58107037b13",
   "metadata": {},
   "outputs": [
    {
     "data": {
      "text/plain": [
       "[2544,\n",
       " False,\n",
       " False,\n",
       " False,\n",
       " False,\n",
       " 2548,\n",
       " False,\n",
       " False,\n",
       " False,\n",
       " False,\n",
       " 2535,\n",
       " False]"
      ]
     },
     "execution_count": 12,
     "metadata": {},
     "output_type": "execute_result"
    }
   ],
   "source": [
    "kNNs"
   ]
  },
  {
   "cell_type": "code",
   "execution_count": 100,
   "id": "2345b475-a8b5-41b3-9873-c3a51df0bf1e",
   "metadata": {},
   "outputs": [],
   "source": []
  },
  {
   "cell_type": "code",
   "execution_count": 11,
   "id": "dab7a013-571c-407e-ad1c-561508ccd207",
   "metadata": {},
   "outputs": [
    {
     "name": "stdout",
     "output_type": "stream",
     "text": [
      "   Unnamed: 0    losses    kNN       std\n",
      "0           0 -0.744611    983  0.022091\n",
      "1           1 -0.980979  False  0.022093\n",
      "2           2 -0.985250  False  0.022093\n",
      "3           3 -0.991743  False  0.022093\n",
      "4           4 -0.993088  False  0.022093\n",
      "5           5 -0.984817    990  0.022093\n",
      "6           6 -0.984730  False  0.022093\n",
      "7           7 -0.988784  False  0.022093\n",
      "8           8 -0.992397  False  0.022093\n",
      "    Unnamed: 0    losses    kNN       std\n",
      "0            0 -0.733413  False  0.022084\n",
      "1            1 -0.732542   2502  0.022084\n",
      "2            2 -0.736271  False  0.022084\n",
      "3            3 -0.734811  False  0.022084\n",
      "4            4 -0.732358  False  0.022084\n",
      "5            5 -0.735565  False  0.022084\n",
      "6            6 -0.732085   2572  0.022084\n",
      "7            7 -0.733680  False  0.022084\n",
      "8            8 -0.734609  False  0.022084\n",
      "9            9 -0.735887  False  0.022085\n",
      "10          10 -0.733427  False  0.022084\n"
     ]
    }
   ],
   "source": [
    "import pandas as pd\n",
    "a = pd.read_csv(\"nosg_stats_epoch9.csv\")\n",
    "b = pd.read_csv(\"sg_stats_epoch19.csv\")\n",
    "print(a)\n",
    "print(b)"
   ]
  },
  {
   "cell_type": "code",
   "execution_count": 102,
   "id": "70fb6706-9e33-4785-9329-0e8830b3a19d",
   "metadata": {},
   "outputs": [
    {
     "data": {
      "text/plain": [
       "97"
      ]
     },
     "execution_count": 102,
     "metadata": {},
     "output_type": "execute_result"
    }
   ],
   "source": [
    "len(zs[0])\n",
    "794624"
   ]
  },
  {
   "cell_type": "code",
   "execution_count": 115,
   "id": "61bb924c-3c7a-4e34-875e-acfd10ad9fc0",
   "metadata": {},
   "outputs": [
    {
     "name": "stdout",
     "output_type": "stream",
     "text": [
      "0.022097086912079608\n"
     ]
    }
   ],
   "source": [
    "d = zs[0][0][0].shape[1]\n",
    "print(1/np.sqrt(d))"
   ]
  },
  {
   "cell_type": "code",
   "execution_count": 10,
   "id": "f712df41-3734-476e-afc8-1883bccd3d79",
   "metadata": {},
   "outputs": [
    {
     "data": {
      "image/png": "[encoded data removed]",
      "text/plain": [
       "<Figure size 432x288 with 1 Axes>"
      ]
     },
     "metadata": {
      "needs_background": "light"
     },
     "output_type": "display_data"
    },
    {
     "data": {
      "image/png": "[encoded data removed]",
      "text/plain": [
       "<Figure size 432x288 with 1 Axes>"
      ]
     },
     "metadata": {
      "needs_background": "light"
     },
     "output_type": "display_data"
    },
    {
     "data": {
      "image/png": "[encoded data removed]",
      "text/plain": [
       "<Figure size 432x288 with 1 Axes>"
      ]
     },
     "metadata": {
      "needs_background": "light"
     },
     "output_type": "display_data"
    }
   ],
   "source": [
    "import matplotlib.pyplot as plt\n",
    "\n",
    "df = pd.read_csv(\"sstopgrad.csv\")\n",
    "df2 = pd.read_csv(\"nostopgrad.csv\")\n",
    "\n",
    "plt.figure(1)\n",
    "plt.plot(list(range(len(df[\"losses\"]))), df[\"losses\"], label=\"stopgrad\")\n",
    "plt.plot(list(range(len(df2[\"losses\"]))), df2[\"losses\"], label=\"no stopgrad\")\n",
    "plt.grid()\n",
    "plt.xlabel(\"Epochs\")\n",
    "plt.legend()\n",
    "plt.ylabel(\"Loss\")\n",
    "plt.savefig(\"stopgradloss.jpg\") #save as jpg\n",
    "plt.savefig(\"stopgradloss.png\")\n",
    "\n",
    "knn = df[\"kNN\"].to_numpy()\n",
    "kn = []\n",
    "knnn = df2[\"kNN\"].to_numpy()\n",
    "ka = []\n",
    "for k, i in zip(knn, knnn):\n",
    "    if not k == 'False':\n",
    "        kn.append(int(k)/100)\n",
    "    if not i == 'False':\n",
    "        ka.append(int(i)/100)\n",
    "\n",
    "plt.figure(2)\n",
    "plt.plot(list(range(0, 100, 5)), kn, label=\"stopgrad\")\n",
    "plt.plot(list(range(0, 100, 5)), ka, label=\"no stopgrad\")\n",
    "#plt.xticks(list(range(0, 100, 5)))\n",
    "plt.grid()\n",
    "plt.legend()\n",
    "plt.xlabel(\"Epochs\")\n",
    "plt.ylabel(\"kNN score\")\n",
    "plt.savefig(\"stopgradkNN.jpg\") #save as jpg\n",
    "plt.savefig(\"stopgradkNN.png\")\n",
    "\n",
    "plt.figure(3)\n",
    "plt.plot(list(range(len(df[\"std\"]))), df[\"std\"])\n",
    "plt.plot(list(range(len(df[\"std\"]))), np.zeros_like(df[\"std\"]))\n",
    "\n",
    "### Linear eval on stopgrad: 0.5974\n",
    "### Linear eval wo stopgrad: 0.1654\n",
    "\n",
    "### Linear eval wo predictor: 0.0974\n",
    "### Linear eval with fix lr: 0.6451\n",
    "\n",
    "import matplotlib.pyplot as plt\n",
    " \n"
   ]
  },
  {
   "cell_type": "code",
   "execution_count": 10,
   "id": "62089872-bd1a-47d0-b298-417aaa8b72ab",
   "metadata": {},
   "outputs": [
    {
     "name": "stdout",
     "output_type": "stream",
     "text": [
      "    Unnamed: 0    losses    kNN       std\n",
      "0            0 -0.581424   2388  0.022078\n",
      "1            1 -0.689031  False  0.022076\n",
      "2            2 -0.704107  False  0.022074\n",
      "3            3 -0.702589  False  0.022074\n",
      "4            4 -0.712043  False  0.022074\n",
      "..         ...       ...    ...       ...\n",
      "7            7 -0.739770   7308  0.022091\n",
      "8            8 -0.739428  False  0.022091\n",
      "9            9 -0.740405  False  0.022091\n",
      "10          10 -0.737838  False  0.022091\n",
      "0            0 -0.738213  False  0.022091\n",
      "\n",
      "[100 rows x 4 columns]\n"
     ]
    }
   ],
   "source": [
    "files = [\"stopgrad10.csv\", \"test21.csv\", \"test32.csv\", \"test43.csv\", \"test54.csv\", \"test65.csv\", \"test76.csv\", \"test87.csv\", \"test98.csv\", \"test100.csv\"]\n",
    "\n",
    "frames = []\n",
    "\n",
    "for file in files:\n",
    "    df = pd.read_csv(file)\n",
    "    frames.append(df)\n",
    "    \n",
    "result = pd.concat(frames)\n",
    "result.to_csv(\"sstopgrad.csv\")\n",
    "\n",
    "print(result)\n",
    "    \n"
   ]
  },
  {
   "cell_type": "code",
   "execution_count": 11,
   "id": "70657417-88dd-44a7-8725-3352e7c6cd10",
   "metadata": {},
   "outputs": [
    {
     "name": "stdout",
     "output_type": "stream",
     "text": [
      "Accuracy of the network on the 10000 training images: 12 %\n",
      "1252\n"
     ]
    }
   ],
   "source": [
    "kNN_score = kNN(model, kNNtrain_loader, testloader)\n",
    "print(kNN_score)"
   ]
  },
  {
   "cell_type": "code",
   "execution_count": 43,
   "id": "7a52fcc8-cc6b-4a77-adb8-21e776608669",
   "metadata": {},
   "outputs": [
    {
     "data": {
      "text/plain": [
       "[13.92,\n",
       " 22.69,\n",
       " 24.45,\n",
       " 38.66,\n",
       " 44.11,\n",
       " 49.37,\n",
       " 55.04,\n",
       " 59.32,\n",
       " 62.23,\n",
       " 64.28,\n",
       " 66.64,\n",
       " 67.59,\n",
       " 69.03,\n",
       " 69.89,\n",
       " 70.19,\n",
       " 71.61,\n",
       " 72.33,\n",
       " 72.58,\n",
       " 72.44,\n",
       " 73.08]"
      ]
     },
     "execution_count": 43,
     "metadata": {},
     "output_type": "execute_result"
    }
   ],
   "source": [
    "kn"
   ]
  },
  {
   "cell_type": "code",
   "execution_count": 34,
   "id": "fbc29085-b2bd-42b4-8fff-044d339e57b0",
   "metadata": {},
   "outputs": [
    {
     "data": {
      "text/plain": [
       "array([1, 0, 0, 0, 0, 1, 0, 0, 0, 0, 1, 0, 0, 0, 0, 1, 0, 0, 0, 0, 1, 0,\n",
       "       0, 0, 0, 1, 0, 0, 0, 0, 1, 0, 0, 0, 0, 1, 0, 0, 0, 0, 1, 0, 0, 0,\n",
       "       0, 1, 0, 0, 0, 0, 1, 0, 0, 0, 0, 1, 0, 0, 0, 0, 1, 0, 0, 0, 0, 1,\n",
       "       0, 0, 0, 0, 1, 0, 0, 0, 0, 1, 0, 0, 0, 0, 1, 0, 0, 0, 0, 1, 0, 0,\n",
       "       0, 0, 1, 0, 0, 0, 0, 1, 0, 0, 0, 0])"
      ]
     },
     "execution_count": 34,
     "metadata": {},
     "output_type": "execute_result"
    }
   ],
   "source": [
    "mask = np.where(knn != 'False', 1, 0)\n",
    "mask"
   ]
  },
  {
   "cell_type": "code",
   "execution_count": 36,
   "id": "ae326c53-9593-46cb-88bd-b07d77afbc04",
   "metadata": {},
   "outputs": [
    {
     "data": {
      "text/plain": [
       "array(['False', '1392', '1392', '1392', '1392', 'False', '1392', '1392',\n",
       "       '1392', '1392', 'False', '1392', '1392', '1392', '1392', 'False',\n",
       "       '1392', '1392', '1392', '1392', 'False', '1392', '1392', '1392',\n",
       "       '1392', 'False', '1392', '1392', '1392', '1392', 'False', '1392',\n",
       "       '1392', '1392', '1392', 'False', '1392', '1392', '1392', '1392',\n",
       "       'False', '1392', '1392', '1392', '1392', 'False', '1392', '1392',\n",
       "       '1392', '1392', 'False', '1392', '1392', '1392', '1392', 'False',\n",
       "       '1392', '1392', '1392', '1392', 'False', '1392', '1392', '1392',\n",
       "       '1392', 'False', '1392', '1392', '1392', '1392', 'False', '1392',\n",
       "       '1392', '1392', '1392', 'False', '1392', '1392', '1392', '1392',\n",
       "       'False', '1392', '1392', '1392', '1392', 'False', '1392', '1392',\n",
       "       '1392', '1392', 'False', '1392', '1392', '1392', '1392', 'False',\n",
       "       '1392', '1392', '1392', '1392'], dtype=object)"
      ]
     },
     "execution_count": 36,
     "metadata": {},
     "output_type": "execute_result"
    }
   ],
   "source": [
    "knn[mask]"
   ]
  },
  {
   "cell_type": "code",
   "execution_count": 41,
   "id": "42d6e666-4f04-4f87-a7fb-f55f2caafded",
   "metadata": {},
   "outputs": [
    {
     "data": {
      "text/plain": [
       "[0, 5, 10, 15, 20, 25, 30, 35, 40, 45, 50, 55, 60, 65, 70, 75, 80, 85, 90, 95]"
      ]
     },
     "execution_count": 41,
     "metadata": {},
     "output_type": "execute_result"
    }
   ],
   "source": [
    "list(range(0, 100, 5))"
   ]
  },
  {
   "cell_type": "code",
   "execution_count": null,
   "id": "fb54731a-8c0f-46b1-b89a-975023647a88",
   "metadata": {},
   "outputs": [],
   "source": []
  }
 ],
 "metadata": {
  "environment": {
   "kernel": "conda-root-py",
   "name": "pytorch-gpu.1-9.m82",
   "type": "gcloud",
   "uri": "gcr.io/deeplearning-platform-release/pytorch-gpu.1-9:m82"
  },
  "kernelspec": {
   "display_name": "Python [conda env:root] *",
   "language": "python",
   "name": "conda-root-py"
  },
  "language_info": {
   "codemirror_mode": {
    "name": "ipython",
    "version": 3
   },
   "file_extension": ".py",
   "mimetype": "text/x-python",
   "name": "python",
   "nbconvert_exporter": "python",
   "pygments_lexer": "ipython3",
   "version": "3.7.10"
  }
 },
 "nbformat": 4,
 "nbformat_minor": 5
}
